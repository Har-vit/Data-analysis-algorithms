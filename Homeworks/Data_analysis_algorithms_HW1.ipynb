{
 "cells": [
  {
   "cell_type": "markdown",
   "metadata": {},
   "source": [
    "### Урок 1. Алгоритм линейной регрессии. Градиентный спуск."
   ]
  },
  {
   "cell_type": "code",
   "execution_count": 1,
   "metadata": {},
   "outputs": [],
   "source": [
    "import numpy as np"
   ]
  },
  {
   "cell_type": "markdown",
   "metadata": {},
   "source": [
    "#### Подберите скорость обучения (alpha) и количество итераций"
   ]
  },
  {
   "cell_type": "code",
   "execution_count": 2,
   "metadata": {},
   "outputs": [],
   "source": [
    "X = np.array([[ 1,  1],\n",
    "              [ 1,  1],\n",
    "              [ 1,  2],\n",
    "              [ 1,  5],\n",
    "              [ 1,  3],\n",
    "              [ 1,  0],\n",
    "              [ 1,  5],\n",
    "              [ 1, 10],\n",
    "              [ 1,  1],\n",
    "              [ 1,  2]])"
   ]
  },
  {
   "cell_type": "code",
   "execution_count": 3,
   "metadata": {},
   "outputs": [],
   "source": [
    "y = [45, 55, 50, 55, 60, 35, 75, 80, 50, 60]"
   ]
  },
  {
   "cell_type": "code",
   "execution_count": 4,
   "metadata": {},
   "outputs": [],
   "source": [
    "def calc_mse(y, y_pred):\n",
    "    err = np.mean((y - y_pred)**2)\n",
    "    return err"
   ]
  },
  {
   "cell_type": "code",
   "execution_count": 5,
   "metadata": {},
   "outputs": [
    {
     "name": "stdout",
     "output_type": "stream",
     "text": [
      "Number of objects = 2        \n",
      "Learning rate = 0.01        \n",
      "Initial weights = [1.  0.5] \n",
      "\n",
      "Iteration #0: W_new = [ 6.4  19.35], MSE = 3047.75\n",
      "Iteration #10: W_new = [18.77319138  8.6270072 ], MSE = 398.58\n",
      "Iteration #20: W_new = [27.15289315  7.06014716], MSE = 207.1\n",
      "Iteration #30: W_new = [32.4241672   6.10426679], MSE = 124.63\n",
      "Iteration #40: W_new = [35.85213314  5.48265802], MSE = 86.53\n",
      "Iteration #50: W_new = [38.15155609  5.06569312], MSE = 67.79\n",
      "Iteration #60: W_new = [39.73790007  4.7780341 ], MSE = 58.04\n",
      "Iteration #70: W_new = [40.86051023  4.57446606], MSE = 52.69\n",
      "Iteration #80: W_new = [41.67349173  4.4270444 ], MSE = 49.62\n",
      "Iteration #90: W_new = [42.2746909  4.3180262], MSE = 47.78\n"
     ]
    }
   ],
   "source": [
    "n = X.shape[1]\n",
    "\n",
    "eta = 1e-2 \n",
    "n_iter = 100\n",
    "\n",
    "W = np.array([1, 0.5])\n",
    "print(f'Number of objects = {n} \\\n",
    "       \\nLearning rate = {eta} \\\n",
    "       \\nInitial weights = {W} \\n')\n",
    "\n",
    "for i in range(n_iter):\n",
    "    y_pred = np.dot(X, W)\n",
    "    err = calc_mse(y, y_pred)\n",
    "    for k in range(W.shape[0]):\n",
    "        W[k] -= eta * (1/n * 2 * X[:, k] @ (y_pred - y))\n",
    "    if i % 10 == 0:\n",
    "        eta /= 1.1\n",
    "        print(f'Iteration #{i}: W_new = {W}, MSE = {round(err, 2)}')"
   ]
  },
  {
   "cell_type": "markdown",
   "metadata": {},
   "source": [
    "Поэкспериментировав с eta и n_iter, пришел к оптимальному выбору, т.к. попытки увеличивать/уменьшать параметры в этих окрестностях не приводят к существенному улучшению показателя mse. Смущение вызывает большое значение веса - 42"
   ]
  },
  {
   "cell_type": "markdown",
   "metadata": {},
   "source": [
    "#### В этом коде мы избавляемся от итераций по весам, но тут есть ошибка, исправьте ее"
   ]
  },
  {
   "cell_type": "code",
   "execution_count": 6,
   "metadata": {},
   "outputs": [
    {
     "name": "stdout",
     "output_type": "stream",
     "text": [
      "Number of objects = 2        \n",
      "Learning rate = 0.01        \n",
      "Initial weights = [1.  0.5] \n",
      "\n",
      "Iteration #0: W_new = [19.85 19.35], MSE = 3047.75\n",
      "Iteration #10: W_new = [19.85 19.35], MSE = 3047.75\n",
      "Iteration #20: W_new = [19.85 19.35], MSE = 3047.75\n",
      "Iteration #30: W_new = [19.85 19.35], MSE = 3047.75\n",
      "Iteration #40: W_new = [19.85 19.35], MSE = 3047.75\n",
      "Iteration #50: W_new = [19.85 19.35], MSE = 3047.75\n",
      "Iteration #60: W_new = [19.85 19.35], MSE = 3047.75\n",
      "Iteration #70: W_new = [19.85 19.35], MSE = 3047.75\n",
      "Iteration #80: W_new = [19.85 19.35], MSE = 3047.75\n",
      "Iteration #90: W_new = [19.85 19.35], MSE = 3047.75\n"
     ]
    }
   ],
   "source": [
    "n = X.shape[1]\n",
    "\n",
    "eta = 1e-2 \n",
    "n_iter = 100\n",
    "\n",
    "W = np.array([1, 0.5])\n",
    "print(f'Number of objects = {n} \\\n",
    "       \\nLearning rate = {eta} \\\n",
    "       \\nInitial weights = {W} \\n')\n",
    "\n",
    "for i in range(n_iter):\n",
    "    y_pred = np.dot(X, W)\n",
    "    err = calc_mse(y, y_pred)\n",
    "    # Для того, чтобы цикл заработал, необходимо в вычислении переменной W транспонировать матрицу \"объектов-признаков\"\n",
    "    W -= eta * (1/n * 2 * np.dot(X.T[1], y_pred - y))\n",
    "    if i % 10 == 0:\n",
    "        print(f'Iteration #{i}: W_new = {W}, MSE = {round(err,2)}')"
   ]
  },
  {
   "cell_type": "code",
   "execution_count": null,
   "metadata": {},
   "outputs": [],
   "source": []
  }
 ],
 "metadata": {
  "kernelspec": {
   "display_name": "Python 3",
   "language": "python",
   "name": "python3"
  },
  "language_info": {
   "codemirror_mode": {
    "name": "ipython",
    "version": 3
   },
   "file_extension": ".py",
   "mimetype": "text/x-python",
   "name": "python",
   "nbconvert_exporter": "python",
   "pygments_lexer": "ipython3",
   "version": "3.7.6"
  },
  "toc": {
   "base_numbering": 1,
   "nav_menu": {},
   "number_sections": true,
   "sideBar": true,
   "skip_h1_title": false,
   "title_cell": "Table of Contents",
   "title_sidebar": "Contents",
   "toc_cell": false,
   "toc_position": {},
   "toc_section_display": true,
   "toc_window_display": false
  }
 },
 "nbformat": 4,
 "nbformat_minor": 2
}
